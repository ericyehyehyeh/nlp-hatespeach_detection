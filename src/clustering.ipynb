{
 "cells": [
  {
   "cell_type": "code",
   "execution_count": 260,
   "metadata": {},
   "outputs": [],
   "source": [
    "import numpy as np\n",
    "import matplotlib.pyplot as plt\n",
    "from sklearn.cluster import KMeans\n",
    "from sklearn.datasets import make_blobs\n",
    "from sklearn.cluster import AgglomerativeClustering\n",
    "from pyjarowinkler import distance\n",
    "from math import*\n",
    "from gensim import corpora, models\n",
    "from sklearn.metrics import euclidean_distances\n",
    "from sklearn import metrics\n",
    "from sklearn.metrics import pairwise_distances\n",
    "from sklearn.cluster import MeanShift, estimate_bandwidth"
   ]
  },
  {
   "cell_type": "code",
   "execution_count": null,
   "metadata": {
    "collapsed": true
   },
   "outputs": [],
   "source": [
    "def getStats(y_pred, label_true, featureVec, sentences):\n",
    "    countx = label_true.count(1)\n",
    "    county = label_true.count(0)\n",
    "    total = len(y_pred)\n",
    "    correct = 0\n",
    "    count2 = 0\n",
    "    count3 = 0\n",
    "    predict1 = 0\n",
    "    predict0 = 0\n",
    "    x = 0\n",
    "    y = 0\n",
    "    for i in range(len(y_pred)):\n",
    "        if y_pred[i] == label_true[i]:\n",
    "            correct += 1\n",
    "            \n",
    "        if y_pred[i] == 1:\n",
    "            predict1 += 1\n",
    "        else:\n",
    "            predict0 += 1\n",
    "        if y_pred[i] == 1 and label_true[i] == 1:\n",
    "            x += 1\n",
    "        if y_pred[i] == 0 and label_true[i] == 0:\n",
    "            y += 1\n",
    "        if y_pred[i] == 1 and label_true[i] == 0:\n",
    "            count2 += 1\n",
    "        if y_pred[i] == 0 and label_true[i] == 1:\n",
    "            count3 += 1\n",
    "            \n",
    "    if predict1 > predict0:\n",
    "        print(\"precision: \" + str((total-correct) / total))\n",
    "        print(\"predict 1 true 1: \" + str(y/countx))\n",
    "        print(\"predict 0 true 0: \" + str(x/county))\n",
    "    else:\n",
    "        print(\"precision: \" + str(correct/ total))\n",
    "        print(\"predict 1 true 1: \" + str(x/countx))\n",
    "        print(\"predict 0 true 0: \" + str(y/county))\n",
    "    print(\"predict 1: \" + str(predict1) + \" predict0: \" + str(predict0))"
   ]
  },
  {
   "cell_type": "code",
   "execution_count": 267,
   "metadata": {},
   "outputs": [],
   "source": [
    "def outputFile(y_pred, label_true, featureVec, sentences):\n",
    "    countx = label_true.count(1)\n",
    "    county = label_true.count(0)\n",
    "    total = len(y_pred)\n",
    "    correct = 0\n",
    "    count2 = 0\n",
    "    count3 = 0\n",
    "    predict1 = 0\n",
    "    predict0 = 0\n",
    "    file2 = open(\"wrong_1_actual_0\", 'w')\n",
    "    file3 = open(\"wrong_0_actual_hate\", 'w')\n",
    "    x = 0\n",
    "    y = 0\n",
    "    for i in range(len(y_pred)):\n",
    "        if y_pred[i] == label_true[i]:\n",
    "            correct += 1\n",
    "            \n",
    "        if y_pred[i] == 1:\n",
    "            predict1 += 1\n",
    "        else:\n",
    "            predict0 += 1\n",
    "        if y_pred[i] == 1 and label_true[i] == 1:\n",
    "            x += 1\n",
    "        if y_pred[i] == 0 and label_true[i] == 0:\n",
    "            y += 1\n",
    "        if y_pred[i] == 1 and label_true[i] == 0:\n",
    "            file2.write(str(featureVec[i][0]) + \" \" + str(featureVec[i][1]) + \" \" + str(featureVec[i][2]) + \" \" + str(featureVec[i][3]) + \" \" + str(featureVec[i][4]) + \" \" + str(featureVec[i][5]) + ' ' + str(featureVec[i][6]) + \"\\n\")\n",
    "            file2.write(\" \".join(sentences[i]) + \"\\n\\n\")\n",
    "            count2 += 1\n",
    "        if y_pred[i] == 0 and label_true[i] == 1:\n",
    "            file3.write(str(featureVec[i][0]) + \" \" + str(featureVec[i][1]) + \" \" + str(featureVec[i][2]) + \" \" + str(featureVec[i][3]) + \" \" + str(featureVec[i][4]) + \" \" + str(featureVec[i][5]) + ' ' + str(featureVec[i][6]) + \"\\n\")\n",
    "            file3.write(\" \".join(sentences[i]) + \"\\n\\n\")\n",
    "            count3 += 1\n",
    "            \n",
    "    if predict1 > predict0:\n",
    "        print(\"precision: \" + str((total-correct) / total))\n",
    "        print(\"predict 1 true 1: \" + str(y/countx))\n",
    "        print(\"predict 0 true 0: \" + str(x/county))\n",
    "    else:\n",
    "        print(\"precision: \" + str(correct/ total))\n",
    "        print(\"predict 1 true 1: \" + str(x/countx))\n",
    "        print(\"predict 0 true 0: \" + str(y/county))\n",
    "    file2.write(str(count2)+\"\\n\")\n",
    "    file3.write(str(count3)+\"\\n\")\n",
    "    print(\"predict 1: \" + str(predict1) + \" predict0: \" + str(predict0))"
   ]
  },
  {
   "cell_type": "code",
   "execution_count": 268,
   "metadata": {
    "collapsed": true
   },
   "outputs": [],
   "source": [
    "def kmeans(featureVec):\n",
    "    y_pred = KMeans(n_clusters=2, random_state = 0).fit_predict(featureVec)\n",
    "    return y_pred\n",
    "\n",
    "def runOnly_1_3_kmeans():\n",
    "    file = open(\"data1.txt\", 'r')\n",
    "    sentences = []\n",
    "    label_true = []\n",
    "    countx = 0\n",
    "    county = 0\n",
    "    index = []\n",
    "    i = 0\n",
    "    for line in file:\n",
    "        if line.split(\"-\")[0] == '1':\n",
    "            label_true.append(1)\n",
    "            sentences.append(line.split(\"-\")[1].split()) \n",
    "            index.append(i)\n",
    "            countx += 1\n",
    "        elif line.split(\"-\")[0] == '3':\n",
    "            label_true.append(0)\n",
    "            sentences.append(line.split(\"-\")[1].split())  \n",
    "            index.append(i)\n",
    "            county += 1\n",
    "        i += 1\n",
    "        \n",
    "    file = open(\"ultimate_feature_vec.txt\", 'r')\n",
    "    \n",
    "    featureVec = []\n",
    "    for line in file:\n",
    "        featureVec.append(line.split())\n",
    "\n",
    "    newFeatureVec = []\n",
    "    for item in index:\n",
    "        newFeatureVec.append(featureVec[item])\n",
    "        \n",
    "    y_pred = kmeans(newFeatureVec)\n",
    "    outputFile(y_pred, label_true, newFeatureVec, sentences)\n",
    "    \n",
    "    \n",
    "def runOnAllData_kmeans():\n",
    "    file = open(\"data1.txt\", 'r')\n",
    "    sentences = []\n",
    "    label_true = []\n",
    "    for line in file:\n",
    "        if line.split(\"-\")[0] == '1':\n",
    "            label_true.append(1)\n",
    "        else:\n",
    "            label_true.append(0)\n",
    "        sentences.append(line.split(\"-\")[1].split())  \n",
    "        \n",
    "    file = open(\"ultimate_feature_vec.txt\", 'r')\n",
    "    \n",
    "    featureVec = []\n",
    "    for line in file:\n",
    "        featureVec.append(line.split())\n",
    "    y_pred = kmeans(featureVec)\n",
    "    outputFile(y_pred, label_true, featureVec, sentences)"
   ]
  },
  {
   "cell_type": "code",
   "execution_count": 269,
   "metadata": {},
   "outputs": [
    {
     "name": "stdout",
     "output_type": "stream",
     "text": [
      "precision: 0.7624922461920187\n",
      "predict 1 true 1: 0.5414756148395165\n",
      "predict 0 true 0: 0.8062758051197357\n",
      "predict 1: 3645 predict0: 10864\n",
      "next\n",
      "precision: 0.5673807878369039\n",
      "predict 1 true 1: 0.523551479783243\n",
      "predict 0 true 0: 0.5891232423490488\n",
      "predict 1: 3243 predict0: 3992\n"
     ]
    }
   ],
   "source": [
    "runOnAllData_kmeans()\n",
    "print(\"next\")\n",
    "runOnly_1_3_kmeans()"
   ]
  },
  {
   "cell_type": "code",
   "execution_count": 230,
   "metadata": {
    "collapsed": true
   },
   "outputs": [],
   "source": [
    "def applyHAC(featureVec, affinity_in, linkage_in):\n",
    "    model = AgglomerativeClustering(n_clusters=2, affinity=affinity_in, linkage=linkage_in)\n",
    "    model.fit(featureVec)\n",
    "    result = model.labels_\n",
    "    return result\n",
    "\n",
    "def runOnly_1_3_agglomerative():\n",
    "    file = open(\"data1.txt\", 'r')\n",
    "    sentences = []\n",
    "    label_true = []\n",
    "    countx = 0\n",
    "    county = 0\n",
    "    index = []\n",
    "    i = 0\n",
    "    for line in file:\n",
    "        if line.split(\"-\")[0] == '1':\n",
    "            label_true.append(1)\n",
    "            sentences.append(line.split(\"-\")[1].split()) \n",
    "            index.append(i)\n",
    "            countx += 1\n",
    "        elif line.split(\"-\")[0] == '3':\n",
    "            label_true.append(0)\n",
    "            sentences.append(line.split(\"-\")[1].split())  \n",
    "            index.append(i)\n",
    "            county += 1\n",
    "        i += 1\n",
    "        \n",
    "    file = open(\"ultimate_feature_vec.txt\", 'r')\n",
    "    \n",
    "    featureVec = []\n",
    "    for line in file:\n",
    "        featureVec.append(line.split())\n",
    "\n",
    "    newFeatureVec = []\n",
    "    for item in index:\n",
    "        newFeatureVec.append(featureVec[item])\n",
    "        \n",
    "    y_pred = applyHAC(newFeatureVec, \"euclidean\", \"ward\")\n",
    "    outputFile(y_pred, label_true, newFeatureVec, sentences)\n",
    "    \n",
    "    \n",
    "def runOnAllData_agglomerative():\n",
    "    file = open(\"data1.txt\", 'r')\n",
    "    sentences = []\n",
    "    label_true = []\n",
    "    for line in file:\n",
    "        if line.split(\"-\")[0] == '1':\n",
    "            label_true.append(1)\n",
    "        else:\n",
    "            label_true.append(0)\n",
    "        sentences.append(line.split(\"-\")[1].split())  \n",
    "        \n",
    "    file1 = open(\"ultimate_feature_vec.txt\", 'r')\n",
    "    \n",
    "    featureVec = []\n",
    "    for line in file1:\n",
    "        featureVec.append(line.split())\n",
    "    y_pred = applyHAC(featureVec, \"euclidean\", \"ward\")\n",
    "    outputFile(y_pred, label_true, featureVec, sentences)"
   ]
  },
  {
   "cell_type": "code",
   "execution_count": 271,
   "metadata": {},
   "outputs": [
    {
     "name": "stdout",
     "output_type": "stream",
     "text": [
      "precision: 0.5531444367657222\n",
      "predict 1 true 1: 0.9082951229679033\n",
      "predict 0 true 0: 0.21794871794871795\n",
      "predict 1: 3711 predict0: 3524\n",
      "next\n",
      "14509\n",
      "precision: 0.7558756633813495\n",
      "predict 1 true 1: 1.003334722801167\n",
      "predict 0 true 0: 0.09372419488026425\n",
      "predict 1: 10838 predict0: 3671\n"
     ]
    }
   ],
   "source": [
    "runOnly_1_3_agglomerative()\n",
    "print(\"next\")\n",
    "runOnAllData_agglomerative()"
   ]
  },
  {
   "cell_type": "code",
   "execution_count": 297,
   "metadata": {
    "collapsed": true
   },
   "outputs": [],
   "source": [
    "def meanShift(featureVec):\n",
    "    #bandwidth = estimate_bandwidth(featureVec, quantile=0.2)\n",
    "    ms = MeanShift(bin_seeding=True)\n",
    "    ms.fit(featureVec)\n",
    "    labels = ms.labels_\n",
    "    \n",
    "def runAll_meanShift():\n",
    "    file = open(\"data1.txt\", 'r')\n",
    "    sentences = []\n",
    "    label_true = []\n",
    "    for line in file:\n",
    "        if line.split(\"-\")[0] == '1':\n",
    "            label_true.append(1)\n",
    "        else:\n",
    "            label_true.append(0)\n",
    "        sentences.append(line.split(\"-\")[1].split())  \n",
    "\n",
    "    file1 = open(\"ultimate_feature_vec.txt\", 'r')\n",
    "    \n",
    "    featureVec = np.array([])\n",
    "    for line in file1:\n",
    "        featureVec = np.append(featureVec, np.array(line.split()))\n",
    "    print(featureVec) \n",
    "    y_pred = meanShift(featureVec)\n",
    "    \n",
    "    getStats(y_pred, label_true, featureVec, sentences)\n",
    "    \n",
    "    \n",
    "def runOnly_1_3_meanShift():\n",
    "    file = open(\"data1.txt\", 'r')\n",
    "    sentences = []\n",
    "    label_true = []\n",
    "    countx = 0\n",
    "    county = 0\n",
    "    index = []\n",
    "    i = 0\n",
    "    for line in file:\n",
    "        if line.split(\"-\")[0] == '1':\n",
    "            label_true.append(1)\n",
    "            sentences.append(line.split(\"-\")[1].split()) \n",
    "            index.append(i)\n",
    "            countx += 1\n",
    "        elif line.split(\"-\")[0] == '3':\n",
    "            label_true.append(0)\n",
    "            sentences.append(line.split(\"-\")[1].split())  \n",
    "            index.append(i)\n",
    "            county += 1\n",
    "        i += 1\n",
    "        \n",
    "    file = open(\"ultimate_feature_vec.txt\", 'r')\n",
    "    \n",
    "    featureVec = []\n",
    "    for line in file:\n",
    "        featureVec.append(line.split())\n",
    "\n",
    "    newFeatureVec = []\n",
    "    for item in index:\n",
    "        newFeatureVec.append(featureVec[item])\n",
    "        \n",
    "    y_pred = meanShift(newFeatureVec)\n",
    "    \n",
    "    getStats(y_pred, label_true, newFeatureVec, sentences)"
   ]
  },
  {
   "cell_type": "code",
   "execution_count": null,
   "metadata": {},
   "outputs": [],
   "source": [
    "runAll_meanShift()"
   ]
  },
  {
   "cell_type": "code",
   "execution_count": null,
   "metadata": {
    "collapsed": true
   },
   "outputs": [],
   "source": []
  },
  {
   "cell_type": "code",
   "execution_count": 288,
   "metadata": {},
   "outputs": [
    {
     "name": "stdout",
     "output_type": "stream",
     "text": [
      "<class 'numpy.ndarray'>\n",
      "number of estimated clusters : 2\n"
     ]
    },
    {
     "data": {
      "image/png": "[encoded data removed]",
      "text/plain": [
       "<matplotlib.figure.Figure at 0x11bf5c048>"
      ]
     },
     "metadata": {},
     "output_type": "display_data"
    }
   ],
   "source": [
    "import numpy as np\n",
    "from sklearn.cluster import MeanShift, estimate_bandwidth\n",
    "from sklearn.datasets.samples_generator import make_blobs\n",
    "\n",
    "# #############################################################################\n",
    "# Generate sample data\n",
    "centers = [[1, 1, 1], [-1, -1, -1], [1, -1, -1]]\n",
    "X, _ = make_blobs(n_samples=10000, centers=centers, cluster_std=0.6)\n",
    "\n",
    "# #############################################################################\n",
    "# Compute clustering with MeanShift\n",
    "\n",
    "# The following bandwidth can be automatically detected using\n",
    "print(type(X))\n",
    "\n",
    "ms = MeanShift(bin_seeding=True)\n",
    "ms.fit(X)\n",
    "labels = ms.labels_\n",
    "cluster_centers = ms.cluster_centers_\n",
    "\n",
    "labels_unique = np.unique(labels)\n",
    "n_clusters_ = len(labels_unique)\n",
    "\n",
    "print(\"number of estimated clusters : %d\" % n_clusters_)\n",
    "\n",
    "# #############################################################################\n",
    "# Plot result\n",
    "import matplotlib.pyplot as plt\n",
    "from itertools import cycle\n",
    "\n",
    "plt.figure(1)\n",
    "plt.clf()\n",
    "\n",
    "colors = cycle('bgrcmykbgrcmykbgrcmykbgrcmyk')\n",
    "for k, col in zip(range(n_clusters_), colors):\n",
    "    my_members = labels == k\n",
    "    cluster_center = cluster_centers[k]\n",
    "    plt.plot(X[my_members, 0], X[my_members, 1], col + '.')\n",
    "    plt.plot(cluster_center[0], cluster_center[1], 'o', markerfacecolor=col,\n",
    "             markeredgecolor='k', markersize=14)\n",
    "plt.title('Estimated number of clusters: %d' % n_clusters_)\n",
    "plt.show()"
   ]
  },
  {
   "cell_type": "code",
   "execution_count": 286,
   "metadata": {},
   "outputs": [
    {
     "data": {
      "text/plain": [
       "[[1, 2], [2, 3]]"
      ]
     },
     "execution_count": 286,
     "metadata": {},
     "output_type": "execute_result"
    }
   ],
   "source": [
    "[[1, 2],[2, 3]]"
   ]
  },
  {
   "cell_type": "code",
   "execution_count": null,
   "metadata": {
    "collapsed": true
   },
   "outputs": [],
   "source": []
  }
 ],
 "metadata": {
  "kernelspec": {
   "display_name": "Python 3",
   "language": "python",
   "name": "python3"
  },
  "language_info": {
   "codemirror_mode": {
    "name": "ipython",
    "version": 3
   },
   "file_extension": ".py",
   "mimetype": "text/x-python",
   "name": "python",
   "nbconvert_exporter": "python",
   "pygments_lexer": "ipython3",
   "version": "3.6.1"
  }
 },
 "nbformat": 4,
 "nbformat_minor": 2
}
