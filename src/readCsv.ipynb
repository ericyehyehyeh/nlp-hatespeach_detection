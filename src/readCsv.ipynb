{
 "cells": [
  {
   "cell_type": "code",
   "execution_count": 3,
   "metadata": {
    "collapsed": true
   },
   "outputs": [],
   "source": [
    "import pandas as pd"
   ]
  },
  {
   "cell_type": "code",
   "execution_count": 23,
   "metadata": {},
   "outputs": [],
   "source": [
    "data = pd.read_csv(\"hate_speech.csv\", encoding='latin-1')"
   ]
  },
  {
   "cell_type": "code",
   "execution_count": 24,
   "metadata": {},
   "outputs": [],
   "source": [
    "vo = data[\"vocabulary\"]\n",
    "off = data[\"offensiveness\"]\n",
    "variant = data[\"variants\"]\n",
    "outV = []\n",
    "outO = []\n",
    "i = 0\n",
    "while i < len(variant):\n",
    "    if off[i] >= 0:\n",
    "        varT = variant[i].split(\";\")\n",
    "        outV.append(vo[i])\n",
    "        outO.append(off[i])\n",
    "        if varT != ['{}']:\n",
    "            for item in varT:\n",
    "                outV.append(item)\n",
    "                outO.append(off[i])\n",
    "    i += 1\n",
    "\n",
    "file3 = open(\"hate_all.txt\", 'w')\n",
    "j = 0\n",
    "while j < len(outV):\n",
    "    file3.write(str(outV[j]) + \" \" + str(outO[j]) + \"\\n\")\n",
    "    j += 1"
   ]
  },
  {
   "cell_type": "code",
   "execution_count": null,
   "metadata": {
    "collapsed": true
   },
   "outputs": [],
   "source": []
  }
 ],
 "metadata": {
  "kernelspec": {
   "display_name": "Python 3",
   "language": "python",
   "name": "python3"
  },
  "language_info": {
   "codemirror_mode": {
    "name": "ipython",
    "version": 3
   },
   "file_extension": ".py",
   "mimetype": "text/x-python",
   "name": "python",
   "nbconvert_exporter": "python",
   "pygments_lexer": "ipython3",
   "version": "3.6.1"
  }
 },
 "nbformat": 4,
 "nbformat_minor": 2
}
